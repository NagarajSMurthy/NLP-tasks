{
 "cells": [
  {
   "cell_type": "code",
   "execution_count": 33,
   "metadata": {},
   "outputs": [],
   "source": [
    "import urllib.request\n",
    "from bs4 import BeautifulSoup\n"
   ]
  },
  {
   "cell_type": "code",
   "execution_count": 34,
   "metadata": {},
   "outputs": [
    {
     "name": "stderr",
     "output_type": "stream",
     "text": [
      "E:\\Anaconda\\lib\\site-packages\\bs4\\__init__.py:181: UserWarning: No parser was explicitly specified, so I'm using the best available HTML parser for this system (\"lxml\"). This usually isn't a problem, but if you run this code on another system, or in a different virtual environment, it may use a different parser and behave differently.\n",
      "\n",
      "The code that caused this warning is on line 193 of the file E:\\Anaconda\\lib\\runpy.py. To get rid of this warning, change code that looks like this:\n",
      "\n",
      " BeautifulSoup(YOUR_MARKUP})\n",
      "\n",
      "to this:\n",
      "\n",
      " BeautifulSoup(YOUR_MARKUP, \"lxml\")\n",
      "\n",
      "  markup_type=markup_type))\n"
     ]
    },
    {
     "name": "stdout",
     "output_type": "stream",
     "text": [
      "Older Posts http://doxydonkey.blogspot.com/search?updated-max=2017-05-23T19:53:00-07:00&max-results=7\n",
      "Older Posts http://doxydonkey.blogspot.com/search?updated-max=2017-05-14T19:02:00-07:00&max-results=7&start=7&by-date=false\n",
      "Older Posts http://doxydonkey.blogspot.com/search?updated-max=2017-05-02T19:43:00-07:00&max-results=7&start=14&by-date=false\n",
      "Older Posts http://doxydonkey.blogspot.com/search?updated-max=2017-04-17T19:26:00-07:00&max-results=7&start=21&by-date=false\n",
      "Older Posts http://doxydonkey.blogspot.com/search?updated-max=2017-04-10T18:56:00-07:00&max-results=7&start=28&by-date=false\n",
      "Older Posts http://doxydonkey.blogspot.com/search?updated-max=2017-03-30T19:57:00-07:00&max-results=7&start=35&by-date=false\n",
      "Older Posts http://doxydonkey.blogspot.com/search?updated-max=2017-03-20T19:47:00-07:00&max-results=7&start=42&by-date=false\n",
      "Older Posts http://doxydonkey.blogspot.com/search?updated-max=2017-03-02T17:42:00-08:00&max-results=7&start=49&by-date=false\n",
      "Older Posts http://doxydonkey.blogspot.com/search?updated-max=2017-02-21T19:13:00-08:00&max-results=7&start=56&by-date=false\n",
      "Older Posts http://doxydonkey.blogspot.com/search?updated-max=2017-02-12T18:34:00-08:00&max-results=7&start=63&by-date=false\n",
      "Older Posts http://doxydonkey.blogspot.com/search?updated-max=2017-02-01T18:56:00-08:00&max-results=7&start=70&by-date=false\n",
      "Older Posts http://doxydonkey.blogspot.com/search?updated-max=2017-01-22T18:58:00-08:00&max-results=7&start=77&by-date=false\n",
      "Older Posts http://doxydonkey.blogspot.com/search?updated-max=2017-01-11T18:09:00-08:00&max-results=7&start=84&by-date=false\n",
      "Older Posts http://doxydonkey.blogspot.com/search?updated-max=2017-01-02T17:59:00-08:00&max-results=7&start=91&by-date=false\n",
      "Older Posts http://doxydonkey.blogspot.com/search?updated-max=2016-12-22T18:58:00-08:00&max-results=7&start=98&by-date=false\n",
      "Older Posts http://doxydonkey.blogspot.com/search?updated-max=2016-12-13T18:57:00-08:00&max-results=7&start=105&by-date=false\n",
      "Older Posts http://doxydonkey.blogspot.com/search?updated-max=2016-12-04T18:58:00-08:00&max-results=7&start=112&by-date=false\n",
      "Older Posts http://doxydonkey.blogspot.com/search?updated-max=2016-09-09T07:34:00-07:00&max-results=7&start=119&by-date=false\n",
      "Older Posts http://doxydonkey.blogspot.com/search?updated-max=2016-08-28T20:08:00-07:00&max-results=7&start=126&by-date=false\n",
      "Older Posts http://doxydonkey.blogspot.com/search?updated-max=2016-08-17T19:24:00-07:00&max-results=7&start=133&by-date=false\n",
      "Older Posts http://doxydonkey.blogspot.com/search?updated-max=2016-08-07T20:30:00-07:00&max-results=7&start=140&by-date=false\n",
      "Older Posts http://doxydonkey.blogspot.com/search?updated-max=2016-07-26T19:55:00-07:00&max-results=7&start=147&by-date=false\n",
      "Older Posts http://doxydonkey.blogspot.com/search?updated-max=2016-07-17T19:47:00-07:00&max-results=7&start=154&by-date=false\n",
      "Older Posts http://doxydonkey.blogspot.com/search?updated-max=2016-07-06T19:34:00-07:00&max-results=7&start=161&by-date=false\n",
      "Older Posts http://doxydonkey.blogspot.com/search?updated-max=2016-06-26T19:36:00-07:00&max-results=7&start=168&by-date=false\n",
      "Older Posts http://doxydonkey.blogspot.com/search?updated-max=2016-06-15T19:23:00-07:00&max-results=7&start=175&by-date=false\n",
      "Older Posts http://doxydonkey.blogspot.com/search?updated-max=2016-06-06T18:50:00-07:00&max-results=7&start=182&by-date=false\n",
      "Older Posts http://doxydonkey.blogspot.com/search?updated-max=2016-05-26T20:08:00-07:00&max-results=7&start=189&by-date=false\n",
      "Older Posts http://doxydonkey.blogspot.com/search?updated-max=2016-05-17T18:52:00-07:00&max-results=7&start=196&by-date=false\n",
      "Older Posts http://doxydonkey.blogspot.com/search?updated-max=2016-05-06T19:26:00-07:00&max-results=7&start=203&by-date=false\n",
      "Older Posts http://doxydonkey.blogspot.com/search?updated-max=2016-04-27T19:03:00-07:00&max-results=7&start=210&by-date=false\n",
      "Older Posts http://doxydonkey.blogspot.com/search?updated-max=2016-04-19T19:36:00-07:00&max-results=7&start=217&by-date=false\n",
      "Older Posts http://doxydonkey.blogspot.com/search?updated-max=2016-04-10T19:19:00-07:00&max-results=7&start=224&by-date=false\n",
      "Older Posts http://doxydonkey.blogspot.com/search?updated-max=2016-03-30T19:12:00-07:00&max-results=7&start=231&by-date=false\n",
      "Older Posts http://doxydonkey.blogspot.com/search?updated-max=2016-03-20T18:41:00-07:00&max-results=7&start=238&by-date=false\n",
      "Older Posts http://doxydonkey.blogspot.com/search?updated-max=2016-03-09T18:38:00-08:00&max-results=7&start=245&by-date=false\n",
      "Older Posts http://doxydonkey.blogspot.com/search?updated-max=2016-02-28T17:47:00-08:00&max-results=7&start=252&by-date=false\n",
      "Older Posts http://doxydonkey.blogspot.com/search?updated-max=2016-02-17T18:44:00-08:00&max-results=7&start=259&by-date=false\n",
      "Older Posts http://doxydonkey.blogspot.com/search?updated-max=2016-02-08T18:13:00-08:00&max-results=7&start=266&by-date=false\n",
      "Older Posts http://doxydonkey.blogspot.com/search?updated-max=2016-01-28T19:45:00-08:00&max-results=7&start=273&by-date=false\n",
      "Older Posts http://doxydonkey.blogspot.com/search?updated-max=2016-01-18T18:30:00-08:00&max-results=7&start=280&by-date=false\n",
      "Older Posts http://doxydonkey.blogspot.com/search?updated-max=2016-01-07T19:03:00-08:00&max-results=7&start=287&by-date=false\n",
      "Older Posts http://doxydonkey.blogspot.com/search?updated-max=2015-12-28T18:26:00-08:00&max-results=7&start=294&by-date=false\n",
      "Older Posts http://doxydonkey.blogspot.com/search?updated-max=2015-12-16T18:24:00-08:00&max-results=7&start=301&by-date=false\n",
      "Older Posts http://doxydonkey.blogspot.com/search?updated-max=2015-12-07T18:24:00-08:00&max-results=7&start=308&by-date=false\n",
      "Older Posts http://doxydonkey.blogspot.com/search?updated-max=2015-11-26T17:49:00-08:00&max-results=7&start=315&by-date=false\n",
      "Older Posts http://doxydonkey.blogspot.com/search?updated-max=2015-11-17T18:18:00-08:00&max-results=7&start=322&by-date=false\n",
      "Older Posts http://doxydonkey.blogspot.com/search?updated-max=2015-11-05T20:15:00-08:00&max-results=7&start=329&by-date=false\n",
      "Older Posts http://doxydonkey.blogspot.com/search?updated-max=2015-10-27T20:04:00-07:00&max-results=7&start=336&by-date=false\n",
      "Older Posts http://doxydonkey.blogspot.com/search?updated-max=2015-10-12T19:45:00-07:00&max-results=7&start=343&by-date=false\n",
      "Older Posts http://doxydonkey.blogspot.com/search?updated-max=2015-09-30T19:33:00-07:00&max-results=7&start=350&by-date=false\n",
      "Older Posts http://doxydonkey.blogspot.com/search?updated-max=2015-09-20T19:11:00-07:00&max-results=7&start=357&by-date=false\n",
      "Older Posts http://doxydonkey.blogspot.com/search?updated-max=2015-09-09T19:32:00-07:00&max-results=7&start=364&by-date=false\n",
      "Older Posts http://doxydonkey.blogspot.com/search?updated-max=2015-08-31T19:31:00-07:00&max-results=7&start=371&by-date=false\n",
      "Older Posts http://doxydonkey.blogspot.com/search?updated-max=2015-08-20T19:29:00-07:00&max-results=7&start=378&by-date=false\n",
      "Older Posts http://doxydonkey.blogspot.com/search?updated-max=2015-08-11T19:32:00-07:00&max-results=7&start=385&by-date=false\n",
      "Older Posts http://doxydonkey.blogspot.com/search?updated-max=2015-08-02T19:04:00-07:00&max-results=7&start=392&by-date=false\n",
      "Older Posts http://doxydonkey.blogspot.com/search?updated-max=2015-07-22T19:39:00-07:00&max-results=7&start=399&by-date=false\n",
      "Older Posts http://doxydonkey.blogspot.com/search?updated-max=2015-07-13T19:38:00-07:00&max-results=7&start=406&by-date=false\n",
      "Older Posts http://doxydonkey.blogspot.com/search?updated-max=2015-07-02T21:15:00-07:00&max-results=7&start=413&by-date=false\n",
      "Older Posts http://doxydonkey.blogspot.com/search?updated-max=2015-06-23T19:30:00-07:00&max-results=7&start=420&by-date=false\n",
      "Older Posts http://doxydonkey.blogspot.com/search?updated-max=2015-06-14T19:36:00-07:00&max-results=7&start=427&by-date=false\n",
      "Older Posts http://doxydonkey.blogspot.com/search?updated-max=2015-06-02T19:38:00-07:00&max-results=7&start=434&by-date=false\n",
      "Older Posts http://doxydonkey.blogspot.com/search?updated-max=2015-05-24T20:16:00-07:00&max-results=7&start=441&by-date=false\n",
      "Older Posts http://doxydonkey.blogspot.com/search?updated-max=2015-05-13T20:18:00-07:00&max-results=7&start=448&by-date=false\n",
      "Older Posts http://doxydonkey.blogspot.com/search?updated-max=2015-05-04T20:23:00-07:00&max-results=7&start=455&by-date=false\n"
     ]
    },
    {
     "name": "stdout",
     "output_type": "stream",
     "text": [
      "Older Posts http://doxydonkey.blogspot.com/search?updated-max=2015-04-23T20:19:00-07:00&max-results=7&start=462&by-date=false\n",
      "Older Posts http://doxydonkey.blogspot.com/search?updated-max=2015-04-14T19:40:00-07:00&max-results=7&start=469&by-date=false\n",
      "Older Posts http://doxydonkey.blogspot.com/search?updated-max=2015-04-05T20:22:00-07:00&max-results=7&start=476&by-date=false\n",
      "Older Posts http://doxydonkey.blogspot.com/search?updated-max=2015-03-24T20:12:00-07:00&max-results=7&start=483&by-date=false\n",
      "Older Posts http://doxydonkey.blogspot.com/search?updated-max=2015-03-15T20:41:00-07:00&max-results=7&start=490&by-date=false\n",
      "Older Posts http://doxydonkey.blogspot.com/search?updated-max=2015-03-03T19:30:00-08:00&max-results=7&start=497&by-date=false\n",
      "Older Posts http://doxydonkey.blogspot.com/search?updated-max=2015-02-22T19:55:00-08:00&max-results=7&start=504&by-date=false\n",
      "Older Posts http://doxydonkey.blogspot.com/search?updated-max=2015-02-11T20:02:00-08:00&max-results=7&start=511&by-date=false\n",
      "Older Posts http://doxydonkey.blogspot.com/search?updated-max=2015-02-02T19:46:00-08:00&max-results=7&start=518&by-date=false\n",
      "Older Posts http://doxydonkey.blogspot.com/search?updated-max=2015-01-22T19:50:00-08:00&max-results=7&start=524&by-date=false\n",
      "Older Posts http://doxydonkey.blogspot.com/search?updated-max=2015-01-15T19:17:00-08:00&max-results=7&start=529&by-date=false\n",
      "Older Posts http://doxydonkey.blogspot.com/search?updated-max=2015-01-06T19:48:00-08:00&max-results=7&start=536&by-date=false\n",
      "Older Posts http://doxydonkey.blogspot.com/search?updated-max=2014-12-25T21:30:00-08:00&max-results=7&start=543&by-date=false\n",
      "Older Posts http://doxydonkey.blogspot.com/search?updated-max=2014-12-15T19:24:00-08:00&max-results=7&start=550&by-date=false\n",
      "Older Posts http://doxydonkey.blogspot.com/search?updated-max=2014-12-05T01:52:00-08:00&max-results=7&start=557&by-date=false\n",
      "Older Posts http://doxydonkey.blogspot.com/search?updated-max=2014-11-26T01:44:00-08:00&max-results=7&start=564&by-date=false\n",
      "Older Posts http://doxydonkey.blogspot.com/search?updated-max=2014-11-17T01:41:00-08:00&max-results=7&start=571&by-date=false\n",
      "Older Posts http://doxydonkey.blogspot.com/search?updated-max=2014-11-06T01:38:00-08:00&max-results=7&start=578&by-date=false\n",
      "Older Posts http://doxydonkey.blogspot.com/search?updated-max=2014-10-28T01:24:00-07:00&max-results=7&start=585&by-date=false\n",
      "Older Posts http://doxydonkey.blogspot.com/search?updated-max=2014-10-17T01:20:00-07:00&max-results=7&start=592&by-date=false\n"
     ]
    }
   ],
   "source": [
    "def getAllPosts(url, links):\n",
    "    response = urllib.request.urlopen(url)\n",
    "    soup = BeautifulSoup(response)\n",
    "    for a in soup.findAll('a'):\n",
    "        try:\n",
    "            url = a['href']\n",
    "            title = a['title']\n",
    "            if title == \"Older Posts\":\n",
    "                print(title, url)\n",
    "                links.append(url)\n",
    "                getAllPosts(url, links)\n",
    "        except:\n",
    "            title = \"\"\n",
    "    return \n",
    "\n",
    "blogUrl = \"http://doxydonkey.blogspot.in\"\n",
    "links = []\n",
    "getAllPosts(blogUrl,links)\n",
    "    "
   ]
  },
  {
   "cell_type": "code",
   "execution_count": 35,
   "metadata": {},
   "outputs": [],
   "source": [
    "#links"
   ]
  },
  {
   "cell_type": "code",
   "execution_count": 36,
   "metadata": {},
   "outputs": [],
   "source": [
    "def getAllTexts(testurl):\n",
    "    response = urllib.request.urlopen(testurl)\n",
    "    soup = BeautifulSoup(response,\"lxml\")\n",
    "    mydivs = soup.findAll(\"div\", {\"class\":'post-body'})\n",
    "    \n",
    "    posts =[]\n",
    "    \n",
    "    for div in mydivs:\n",
    "        posts+=map(lambda p:p.text.encode('ascii', errors='replace').replace(b\"?\",b\" \"), div.findAll(\"li\"))\n",
    "    return posts"
   ]
  },
  {
   "cell_type": "code",
   "execution_count": 37,
   "metadata": {},
   "outputs": [],
   "source": [
    "doxyposts = []\n",
    "for m in links:\n",
    "    doxyposts+=getAllTexts(m)"
   ]
  },
  {
   "cell_type": "code",
   "execution_count": 38,
   "metadata": {},
   "outputs": [],
   "source": [
    "#doxyposts"
   ]
  },
  {
   "cell_type": "code",
   "execution_count": 39,
   "metadata": {},
   "outputs": [],
   "source": [
    "from sklearn.feature_extraction.text import TfidfVectorizer"
   ]
  },
  {
   "cell_type": "code",
   "execution_count": 40,
   "metadata": {},
   "outputs": [],
   "source": [
    "vectorizer = TfidfVectorizer(max_df=0.5,min_df=2,stop_words='english')"
   ]
  },
  {
   "cell_type": "code",
   "execution_count": 41,
   "metadata": {},
   "outputs": [],
   "source": [
    "X = vectorizer.fit_transform(doxyposts)"
   ]
  },
  {
   "cell_type": "code",
   "execution_count": 42,
   "metadata": {},
   "outputs": [
    {
     "data": {
      "text/plain": [
       "<2804x13220 sparse matrix of type '<class 'numpy.float64'>'\n",
       "\twith 280835 stored elements in Compressed Sparse Row format>"
      ]
     },
     "execution_count": 42,
     "metadata": {},
     "output_type": "execute_result"
    }
   ],
   "source": [
    "X"
   ]
  },
  {
   "cell_type": "code",
   "execution_count": 43,
   "metadata": {},
   "outputs": [],
   "source": [
    "from sklearn.cluster import KMeans"
   ]
  },
  {
   "cell_type": "code",
   "execution_count": 44,
   "metadata": {},
   "outputs": [],
   "source": [
    "km = KMeans(n_clusters=3 , init='k-means++',max_iter=100, n_init=1, verbose=True)"
   ]
  },
  {
   "cell_type": "code",
   "execution_count": 45,
   "metadata": {},
   "outputs": [
    {
     "name": "stdout",
     "output_type": "stream",
     "text": [
      "Initialization complete\n",
      "Iteration  0, inertia 5323.052\n",
      "Iteration  1, inertia 2697.689\n",
      "Iteration  2, inertia 2685.139\n",
      "Iteration  3, inertia 2682.043\n",
      "Iteration  4, inertia 2680.238\n",
      "Iteration  5, inertia 2679.090\n",
      "Iteration  6, inertia 2678.056\n",
      "Iteration  7, inertia 2677.369\n",
      "Iteration  8, inertia 2676.974\n",
      "Iteration  9, inertia 2676.766\n",
      "Iteration 10, inertia 2676.629\n",
      "Iteration 11, inertia 2676.541\n",
      "Iteration 12, inertia 2676.475\n",
      "Iteration 13, inertia 2676.451\n",
      "Iteration 14, inertia 2676.429\n",
      "Iteration 15, inertia 2676.402\n",
      "Iteration 16, inertia 2676.378\n",
      "Iteration 17, inertia 2676.354\n",
      "Iteration 18, inertia 2676.317\n",
      "Iteration 19, inertia 2676.281\n",
      "Iteration 20, inertia 2676.256\n",
      "Iteration 21, inertia 2676.236\n",
      "Iteration 22, inertia 2676.220\n",
      "Iteration 23, inertia 2676.203\n",
      "Iteration 24, inertia 2676.192\n",
      "Iteration 25, inertia 2676.184\n",
      "Iteration 26, inertia 2676.178\n",
      "Iteration 27, inertia 2676.176\n",
      "Converged at iteration 27: center shift 0.000000e+00 within tolerance 7.307995e-09\n"
     ]
    },
    {
     "data": {
      "text/plain": [
       "KMeans(algorithm='auto', copy_x=True, init='k-means++', max_iter=100,\n",
       "    n_clusters=3, n_init=1, n_jobs=1, precompute_distances='auto',\n",
       "    random_state=None, tol=0.0001, verbose=True)"
      ]
     },
     "execution_count": 45,
     "metadata": {},
     "output_type": "execute_result"
    }
   ],
   "source": [
    "km.fit(X)"
   ]
  },
  {
   "cell_type": "code",
   "execution_count": 46,
   "metadata": {},
   "outputs": [],
   "source": [
    "import numpy as np "
   ]
  },
  {
   "cell_type": "code",
   "execution_count": 47,
   "metadata": {},
   "outputs": [
    {
     "data": {
      "text/plain": [
       "(array([0, 1, 2]), array([ 533,  400, 1871], dtype=int64))"
      ]
     },
     "execution_count": 47,
     "metadata": {},
     "output_type": "execute_result"
    }
   ],
   "source": [
    "np.unique(km.labels_,return_counts=True)"
   ]
  },
  {
   "cell_type": "code",
   "execution_count": 48,
   "metadata": {},
   "outputs": [],
   "source": [
    "text = {}\n",
    "for i,cluster in enumerate(km.labels_):\n",
    "    onedoc = doxyposts[i]\n",
    "    #print(i ,cluster)\n",
    "    if cluster not in text.keys():\n",
    "        text[cluster] = onedoc\n",
    "    else:\n",
    "        text[cluster] += onedoc"
   ]
  },
  {
   "cell_type": "code",
   "execution_count": 49,
   "metadata": {},
   "outputs": [],
   "source": [
    "import nltk\n",
    "from nltk.tokenize import word_tokenize, sent_tokenize\n",
    "from nltk.corpus import stopwords\n",
    "from nltk.collections import defaultdict\n",
    "from nltk.probability import FreqDist\n",
    "from string import punctuation\n",
    "from heapq import nlargest"
   ]
  },
  {
   "cell_type": "code",
   "execution_count": 50,
   "metadata": {},
   "outputs": [],
   "source": [
    "stop_words = set(stopwords.words('english')+list(punctuation)+[\"million\",\"billion\",\"technology\",\"'\",\"year\",\"millions\",\"billions\",\"'s\",\"''\",'one', '``','snippet','snippets'])"
   ]
  },
  {
   "cell_type": "code",
   "execution_count": 51,
   "metadata": {},
   "outputs": [],
   "source": [
    "keywords = {}\n",
    "counts = {}\n",
    "for i in range(3):\n",
    "    wordsent = word_tokenize(text[i].lower().decode('utf-8'))\n",
    "    wordsent = [word for word in wordsent if word not in stop_words]\n",
    "    freq = FreqDist(wordsent)\n",
    "    #print(freq)\n",
    "    keywords[i] = nlargest(100,freq, key = freq.get)\n",
    "    counts[i] = freq\n",
    "    #print(keywords[i])\n",
    "    #print(counts[i])"
   ]
  },
  {
   "cell_type": "code",
   "execution_count": 52,
   "metadata": {},
   "outputs": [],
   "source": [
    "unique_keys = {}\n",
    "for cluster in range (3):\n",
    "    otherclusters = list(set(range(3)) - set([cluster]))\n",
    "    keysinothercluster = set(keywords[otherclusters[0]]).union(set(keywords[otherclusters[1]]))\n",
    "    unique = set(keywords[cluster])-keysinothercluster \n",
    "    unique_keys[cluster] = nlargest(10, unique , key = counts[cluster].get)"
   ]
  },
  {
   "cell_type": "code",
   "execution_count": 53,
   "metadata": {},
   "outputs": [
    {
     "data": {
      "text/plain": [
       "{0: ['uber',\n",
       "  'round',\n",
       "  'capital',\n",
       "  'funding',\n",
       "  'valuation',\n",
       "  'raised',\n",
       "  'private',\n",
       "  'public',\n",
       "  'venture',\n",
       "  'drivers'],\n",
       " 1: ['amazon',\n",
       "  'alibaba',\n",
       "  'e-commerce',\n",
       "  'prime',\n",
       "  'delivery',\n",
       "  'shopping',\n",
       "  'cloud',\n",
       "  'stake',\n",
       "  'jet',\n",
       "  'amazon.com'],\n",
       " 2: ['facebook',\n",
       "  'apple',\n",
       "  'twitter',\n",
       "  'ads',\n",
       "  'software',\n",
       "  'video',\n",
       "  'use',\n",
       "  'microsoft',\n",
       "  'search',\n",
       "  'ad']}"
      ]
     },
     "execution_count": 53,
     "metadata": {},
     "output_type": "execute_result"
    }
   ],
   "source": [
    "unique_keys"
   ]
  },
  {
   "cell_type": "code",
   "execution_count": 54,
   "metadata": {},
   "outputs": [],
   "source": [
    "article = 'Alibaba Group Holding Ltd.’s six-year-old excursion into mobile operating systems is faltering in China, casting doubt over software that bears billionaire-founder Jack Ma’s name and was once touted as key to countering Tencent Holdings Ltd. China’s largest e-commerce company debuted YunOS in 2011, a system that underpins search, shopping and browsing that its executives last year said could attain as much as 25 percent domestic market share by the end of 2016 -- surpassing Apple Inc.’s iOS. Six years on, YunOS’ slice of China software installations stands at just 2.2 percent while its share of 2016 shipments was 10 percent, researchers Canalys and Counterpoint estimate, respectively. Alibaba disputes those numbers. Alibaba managers have grown increasingly unhappy with its sluggish adoption and have begun an internal debate around the software’s future, a person familiar with the matter said. No conclusions have been reached, the person said, asking not to be named discussing a confidential matter. Yet the talks reflect the inability of a once-vaunted initiative to forestall Tencent’s dominance in the mobile arena, secured through the utility of WeChat -- a universal app that melds messaging, payments, media, shopping and on-demand services.'"
   ]
  },
  {
   "cell_type": "code",
   "execution_count": 55,
   "metadata": {},
   "outputs": [
    {
     "data": {
      "text/plain": [
       "KNeighborsClassifier(algorithm='auto', leaf_size=30, metric='minkowski',\n",
       "           metric_params=None, n_jobs=1, n_neighbors=1, p=2,\n",
       "           weights='uniform')"
      ]
     },
     "execution_count": 55,
     "metadata": {},
     "output_type": "execute_result"
    }
   ],
   "source": [
    "from sklearn.neighbors import KNeighborsClassifier\n",
    "knn = KNeighborsClassifier(n_neighbors=1)\n",
    "knn.fit(X,km.labels_)\n"
   ]
  },
  {
   "cell_type": "code",
   "execution_count": 56,
   "metadata": {},
   "outputs": [],
   "source": [
    "test = vectorizer.transform([article.encode('ascii', errors='ignore')])"
   ]
  },
  {
   "cell_type": "code",
   "execution_count": 57,
   "metadata": {},
   "outputs": [
    {
     "data": {
      "text/plain": [
       "<1x13220 sparse matrix of type '<class 'numpy.float64'>'\n",
       "\twith 90 stored elements in Compressed Sparse Row format>"
      ]
     },
     "execution_count": 57,
     "metadata": {},
     "output_type": "execute_result"
    }
   ],
   "source": [
    "test"
   ]
  },
  {
   "cell_type": "code",
   "execution_count": 58,
   "metadata": {},
   "outputs": [
    {
     "name": "stdout",
     "output_type": "stream",
     "text": [
      "Belongs to group 2\n"
     ]
    }
   ],
   "source": [
    "if (knn.predict(test)) == [0]:\n",
    "    print(\"Belongs to group 0\")\n",
    "elif (knn.predict(test)) == [1]:\n",
    "    print(\"Belongs to group 1\")\n",
    "elif (knn.predict(test)) == [2]:\n",
    "    print(\"Belongs to group 2\")\n",
    "else:\n",
    "    print(\"Not classified\")"
   ]
  },
  {
   "cell_type": "code",
   "execution_count": null,
   "metadata": {},
   "outputs": [],
   "source": []
  }
 ],
 "metadata": {
  "kernelspec": {
   "display_name": "Python 3",
   "language": "python",
   "name": "python3"
  },
  "language_info": {
   "codemirror_mode": {
    "name": "ipython",
    "version": 3
   },
   "file_extension": ".py",
   "mimetype": "text/x-python",
   "name": "python",
   "nbconvert_exporter": "python",
   "pygments_lexer": "ipython3",
   "version": "3.6.5"
  }
 },
 "nbformat": 4,
 "nbformat_minor": 2
}

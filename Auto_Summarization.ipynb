{
 "cells": [
  {
   "cell_type": "code",
   "execution_count": 11,
   "metadata": {},
   "outputs": [],
   "source": [
    "from nltk import word_tokenize, sent_tokenize\n",
    "from nltk.corpus import stopwords\n",
    "from string import punctuation\n",
    "from nltk.probability import FreqDist\n",
    "from collections import defaultdict\n",
    "from heapq import nlargest\n",
    "\n",
    "\n",
    "import urllib.request\n",
    "from bs4 import BeautifulSoup"
   ]
  },
  {
   "cell_type": "code",
   "execution_count": 12,
   "metadata": {},
   "outputs": [],
   "source": [
    "def getData(url):\n",
    "    source = urllib.request.urlopen(url)\n",
    "    x = source.read().decode('utf8','ignore')\n",
    "    soup = BeautifulSoup(x , 'lxml')\n",
    "    text = ' '.join(map(lambda p: p.text, soup.find_all('article')))\n",
    "    return text"
   ]
  },
  {
   "cell_type": "code",
   "execution_count": 13,
   "metadata": {},
   "outputs": [],
   "source": [
    "def summarize(text,n):\n",
    "    sents = sent_tokenize(text)\n",
    "    assert n <=len(sents)\n",
    "    \n",
    "    words = word_tokenize(text.lower())\n",
    "    CustStopwords = set(stopwords.words('english')+list(punctuation))\n",
    "    \n",
    "    WordsWOSW = [word for word in words if word not in CustStopwords]\n",
    "    freq = FreqDist(WordsWOSW)\n",
    "    \n",
    "    ranking = defaultdict(int)\n",
    "    \n",
    "    for i,sent in enumerate(sents):\n",
    "        for w in word_tokenize(sent.lower()):\n",
    "            if w in freq:\n",
    "                ranking[i] += freq[w]\n",
    "    \n",
    "    \n",
    "    sentidx = nlargest(n, ranking, key = ranking.get)\n",
    "    return [sents[j] for j in sorted(sentidx)]\n"
   ]
  },
  {
   "cell_type": "code",
   "execution_count": 14,
   "metadata": {},
   "outputs": [],
   "source": [
    "article = 'https://www.washingtonpost.com/news/education/wp/2018/08/23/a-teacher-posted-a-video-of-her-pole-dancing-art-to-facebook-now-shes-suspended/?utm_term=.f96e86162b6d'\n",
    "text = getData(article)"
   ]
  },
  {
   "cell_type": "code",
   "execution_count": 15,
   "metadata": {},
   "outputs": [],
   "source": [
    "Summary = summarize(text , 4)"
   ]
  },
  {
   "cell_type": "code",
   "execution_count": 16,
   "metadata": {},
   "outputs": [
    {
     "name": "stdout",
     "output_type": "stream",
     "text": [
      "['(Kandice Mason)       By  Alex Horton          Alex Horton General assignment reporter covering national and breaking news  Email  Bio  Follow         August 23, 2018  Kandice Mason was caught in a hectic daily rhythm and felt as if a wave was taking her under.', '“Pole dancing allows me to color outside the lines, and know that whatever I produce is perfect the way it is, because you don’t police art,” she said in a conversation over Facebook.', '[After a professor wrote about hating white people, Rutgers considers the limits of free speech] In a local ABC news story, Mason showed a portion of school’s employee conduct rules that govern\\xa0teacher behavior on social media.', 'She posted the Facebook video on Aug. 4, which features explicit language from Eminem’s song “Super Man.” She did not say when she received notice about the suspension, but local news outlets began reporting it by Aug. 17.']\n"
     ]
    }
   ],
   "source": [
    "print(str(Summary))"
   ]
  }
 ],
 "metadata": {
  "kernelspec": {
   "display_name": "Python 3",
   "language": "python",
   "name": "python3"
  },
  "language_info": {
   "codemirror_mode": {
    "name": "ipython",
    "version": 3
   },
   "file_extension": ".py",
   "mimetype": "text/x-python",
   "name": "python",
   "nbconvert_exporter": "python",
   "pygments_lexer": "ipython3",
   "version": "3.6.5"
  }
 },
 "nbformat": 4,
 "nbformat_minor": 2
}

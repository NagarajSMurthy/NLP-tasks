{
 "cells": [
  {
   "cell_type": "code",
   "execution_count": 1,
   "metadata": {},
   "outputs": [],
   "source": [
    "import nltk\n",
    "from nltk.corpus import wordnet as wn\n",
    "from nltk.wsd import lesk\n",
    "from nltk.tokenize import word_tokenize"
   ]
  },
  {
   "cell_type": "code",
   "execution_count": 2,
   "metadata": {},
   "outputs": [
    {
     "name": "stdout",
     "output_type": "stream",
     "text": [
      "Welcome\n",
      "\n"
     ]
    }
   ],
   "source": [
    "print('Welcome\\n')"
   ]
  },
  {
   "cell_type": "code",
   "execution_count": 7,
   "metadata": {},
   "outputs": [
    {
     "name": "stdout",
     "output_type": "stream",
     "text": [
      "Enter the word:\n",
      "bat\n"
     ]
    }
   ],
   "source": [
    "word = input('Enter the word:\\n')"
   ]
  },
  {
   "cell_type": "code",
   "execution_count": 8,
   "metadata": {},
   "outputs": [
    {
     "name": "stdout",
     "output_type": "stream",
     "text": [
      "10\n"
     ]
    }
   ],
   "source": [
    "x =0\n",
    "for i in wn.synsets(word):\n",
    "    x=x+1\n",
    "print(x)"
   ]
  },
  {
   "cell_type": "code",
   "execution_count": 9,
   "metadata": {},
   "outputs": [
    {
     "name": "stdout",
     "output_type": "stream",
     "text": [
      "I found 10 definition(s)\n",
      "\n"
     ]
    }
   ],
   "source": [
    "print('I found {} definition(s)\\n'.format(x))"
   ]
  },
  {
   "cell_type": "code",
   "execution_count": 11,
   "metadata": {},
   "outputs": [
    {
     "name": "stdout",
     "output_type": "stream",
     "text": [
      "Definition 1:\t\n",
      "nocturnal mouselike mammal with forelimbs modified to form membranous wings and anatomical adaptations for echolocation by which they navigate\n",
      "Definition 2:\t\n",
      "(baseball) a turn trying to get a hit\n",
      "Definition 3:\t\n",
      "a small racket with a long handle used for playing squash\n",
      "Definition 4:\t\n",
      "the club used in playing cricket\n",
      "Definition 5:\t\n",
      "a club used for hitting a ball in various games\n",
      "Definition 6:\t\n",
      "strike with, or as if with a baseball bat\n",
      "Definition 7:\t\n",
      "wink briefly\n",
      "Definition 8:\t\n",
      "have a turn at bat\n",
      "Definition 9:\t\n",
      "use a bat\n",
      "Definition 10:\t\n",
      "beat thoroughly and conclusively in a competition or fight\n"
     ]
    }
   ],
   "source": [
    "if (x==0):\n",
    "        print('Ooops.... Could not find anything')\n",
    "words = wn.synsets(word)\n",
    "for i in range(x):\n",
    "    print('Definition {}:\\t'.format(i+1))\n",
    "    print(words[i].definition())"
   ]
  },
  {
   "cell_type": "code",
   "execution_count": null,
   "metadata": {},
   "outputs": [],
   "source": []
  }
 ],
 "metadata": {
  "kernelspec": {
   "display_name": "Python 3",
   "language": "python",
   "name": "python3"
  },
  "language_info": {
   "codemirror_mode": {
    "name": "ipython",
    "version": 3
   },
   "file_extension": ".py",
   "mimetype": "text/x-python",
   "name": "python",
   "nbconvert_exporter": "python",
   "pygments_lexer": "ipython3",
   "version": "3.6.5"
  }
 },
 "nbformat": 4,
 "nbformat_minor": 2
}
